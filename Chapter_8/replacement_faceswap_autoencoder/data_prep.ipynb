{
 "cells": [
  {
   "cell_type": "markdown",
   "metadata": {},
   "source": [
    "# Data Preparation Notebook\n",
    "\n",
    "+ This notebook prepares face datasets for Autoencoder based Face Swapping DeepFakes\n",
    "+ See ```helper_notebook.ipynb``` for a step by step understanding of different utilities\n",
    "+ We leverage ```cv2```, ```face_recognition``` and ```dlib``` to prepare the datasets"
   ]
  },
  {
   "cell_type": "markdown",
   "metadata": {},
   "source": [
    "## Install ```face_recognition```"
   ]
  },
  {
   "cell_type": "code",
   "execution_count": null,
   "metadata": {
    "colab": {
     "base_uri": "https://localhost:8080/",
     "height": 139
    },
    "colab_type": "code",
    "id": "k9OSIeGuHqMH",
    "outputId": "47f8a97c-7b2a-4461-87d7-dbd87c7d6daa"
   },
   "outputs": [],
   "source": [
    "!pip install face_recognition"
   ]
  },
  {
   "cell_type": "markdown",
   "metadata": {},
   "source": [
    "## Import Required Libraries"
   ]
  },
  {
   "cell_type": "code",
   "execution_count": null,
   "metadata": {
    "colab": {},
    "colab_type": "code",
    "id": "j1iaC3N8N_yB"
   },
   "outputs": [],
   "source": [
    "import cv2\n",
    "import dlib\n",
    "import glob\n",
    "import face_recognition\n",
    "import face_recognition_models\n",
    "from face_utils import Extract \n",
    "from face_utils import FaceFilter \n",
    "from face_utils import DetectedFace\n",
    "from matplotlib import pyplot as plt"
   ]
  },
  {
   "cell_type": "code",
   "execution_count": null,
   "metadata": {
    "colab": {},
    "colab_type": "code",
    "id": "t6ET-YUZOZsI"
   },
   "outputs": [],
   "source": [
    "included_extentions = ['jpg', 'bmp', 'png', 'gif']"
   ]
  },
  {
   "cell_type": "markdown",
   "metadata": {},
   "source": [
    "## Instantiate recognition objects"
   ]
  },
  {
   "cell_type": "code",
   "execution_count": null,
   "metadata": {
    "colab": {},
    "colab_type": "code",
    "id": "YsbpqIdHQQSb"
   },
   "outputs": [],
   "source": [
    "predictor_68_point_model = face_recognition_models.pose_predictor_model_location()\n",
    "pose_predictor = dlib.shape_predictor(predictor_68_point_model)"
   ]
  },
  {
   "cell_type": "markdown",
   "metadata": {},
   "source": [
    "## Utility Methods for Identification and Cropping Faces"
   ]
  },
  {
   "cell_type": "code",
   "execution_count": null,
   "metadata": {
    "colab": {},
    "colab_type": "code",
    "id": "_osbSJRIPdDU"
   },
   "outputs": [],
   "source": [
    "def _css_to_rect(css):\n",
    "    return dlib.rectangle(css[3], css[0], css[1], css[2])\n",
    "    \n",
    "def _raw_face_landmarks(face_image, face_locations):\n",
    "    face_locations = [_css_to_rect(face_location) for face_location in face_locations]\n",
    "    return [pose_predictor(face_image, face_location) for face_location in face_locations]\n",
    "\n",
    "def detect_faces(frame):\n",
    "    face_locations = face_recognition.face_locations(frame)\n",
    "    landmarks = _raw_face_landmarks(frame, face_locations)\n",
    "\n",
    "    for ((y, right, bottom, x), landmarks) in zip(face_locations, landmarks):\n",
    "        yield DetectedFace(frame[y: bottom, x: right], \n",
    "                           x, right - x, y, bottom - y, landmarks)"
   ]
  },
  {
   "cell_type": "code",
   "execution_count": null,
   "metadata": {
    "colab": {},
    "colab_type": "code",
    "id": "NR_HKigEOwRg"
   },
   "outputs": [],
   "source": [
    "def get_faces(reference_image,image,extractor,debug=False):\n",
    "    faces_count = 0\n",
    "    facefilter = FaceFilter(reference_image)\n",
    "    for face in detect_faces(image):\n",
    "        if not facefilter.check(face):\n",
    "            print('Skipping not recognized face!')\n",
    "            continue\n",
    "        resized_image = extractor.extract(image, face, 256)\n",
    "        if debug:\n",
    "            imgplot = plt.imshow(cv2.cvtColor(resized_image , cv2.COLOR_BGR2RGB ))\n",
    "            plt.show()\n",
    "\n",
    "        yield faces_count, face\n",
    "        faces_count +=1"
   ]
  },
  {
   "cell_type": "code",
   "execution_count": null,
   "metadata": {
    "colab": {},
    "colab_type": "code",
    "id": "GFHvEP3_Q7Ca"
   },
   "outputs": [],
   "source": [
    "def create_face_dataset(reference_face_filepath,\n",
    "                        input_dir,\n",
    "                        output_dir,\n",
    "                        extractor,\n",
    "                        included_extentions=included_extentions):\n",
    "    image_list = [fn for fn in glob.glob(input_dir+\"/*.*\") \\\n",
    "              if any(fn.endswith(ext) for ext in included_extentions)]\n",
    "    print(\"Total Images to Scan={}\".format(len(image_list)))\n",
    "    positive_ctr = 0\n",
    "    try:\n",
    "    for filename in image_list:\n",
    "        image = cv2.imread(filename)\n",
    "        for idx, face in get_faces(reference_face_filepath,image,extractor):\n",
    "            resized_image = extractor.extract(image, face, 256)\n",
    "            output_file = output_dir+\"/\"+str(filename).split(\"/\")[-1]\n",
    "            cv2.imwrite(output_file, resized_image)\n",
    "            positive_ctr += 1\n",
    "    except Exception as e:\n",
    "        print('Failed to extract from image: {}. Reason: {}'.format(filename, e))\n",
    "    print(\"Images with reference face={}\".format(positive_ctr))"
   ]
  },
  {
   "cell_type": "markdown",
   "metadata": {},
   "source": [
    "## Start Dataset Preparation Process"
   ]
  },
  {
   "cell_type": "code",
   "execution_count": null,
   "metadata": {
    "colab": {},
    "colab_type": "code",
    "id": "RLtogm6NOCk9"
   },
   "outputs": [],
   "source": [
    "extractor = Extract()"
   ]
  },
  {
   "cell_type": "code",
   "execution_count": null,
   "metadata": {
    "colab": {},
    "colab_type": "code",
    "id": "hpQyTMD_S4O7"
   },
   "outputs": [],
   "source": [
    "reference_face_filepath = \"nicolas_ref.png\""
   ]
  },
  {
   "cell_type": "code",
   "execution_count": null,
   "metadata": {
    "colab": {
     "base_uri": "https://localhost:8080/",
     "height": 1000
    },
    "colab_type": "code",
    "id": "PNWqRhxzRxJu",
    "outputId": "a56b4a60-8ec8-4662-d0c9-6cf83dbb7b9c"
   },
   "outputs": [],
   "source": [
    "create_face_dataset(reference_face_filepath,\n",
    "                        'nicolas',\n",
    "                        'nicolas_face',\n",
    "                         extractor,\n",
    "                         included_extentions=included_extentions)"
   ]
  },
  {
   "cell_type": "code",
   "execution_count": null,
   "metadata": {
    "colab": {
     "base_uri": "https://localhost:8080/",
     "height": 1000
    },
    "colab_type": "code",
    "id": "4f2CFQljaSpC",
    "outputId": "5643c57b-0d01-4133-cf19-af1f0dca6f55"
   },
   "outputs": [],
   "source": [
    "!unzip trump.zip"
   ]
  },
  {
   "cell_type": "code",
   "execution_count": null,
   "metadata": {
    "colab": {},
    "colab_type": "code",
    "id": "ttMteTI8g6nu"
   },
   "outputs": [],
   "source": [
    "trump_reference_face_filepath = \"trump_ref.png\""
   ]
  },
  {
   "cell_type": "code",
   "execution_count": null,
   "metadata": {
    "colab": {
     "base_uri": "https://localhost:8080/",
     "height": 1000
    },
    "colab_type": "code",
    "id": "qva6AiIFTy8s",
    "outputId": "e63299fd-8114-408a-9b84-6dc19abc164f"
   },
   "outputs": [],
   "source": [
    "# trump photos kaggle: https://www.kaggle.com/mbkinaci/trump-photos <-- fast+highres\n",
    "# trump photos anon : https://anonfiles.com/p7w3m0d5be/face-swap.zip <-- slow\n",
    "create_face_dataset(trump_reference_face_filepath,\n",
    "                        'trump',\n",
    "                        'trump_face',\n",
    "                         extractor,\n",
    "                         included_extentions=included_extentions)"
   ]
  },
  {
   "cell_type": "code",
   "execution_count": null,
   "metadata": {
    "colab": {},
    "colab_type": "code",
    "id": "0GhwjiG_neFo"
   },
   "outputs": [],
   "source": []
  }
 ],
 "metadata": {
  "colab": {
   "collapsed_sections": [],
   "name": "data_prep.ipynb",
   "provenance": []
  },
  "kernelspec": {
   "display_name": "Python 3",
   "language": "python",
   "name": "python3"
  },
  "language_info": {
   "codemirror_mode": {
    "name": "ipython",
    "version": 3
   },
   "file_extension": ".py",
   "mimetype": "text/x-python",
   "name": "python",
   "nbconvert_exporter": "python",
   "pygments_lexer": "ipython3",
   "version": "3.7.6"
  }
 },
 "nbformat": 4,
 "nbformat_minor": 1
}
