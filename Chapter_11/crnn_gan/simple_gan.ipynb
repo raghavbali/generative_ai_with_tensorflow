{
 "cells": [
  {
   "cell_type": "markdown",
   "metadata": {
    "id": "dykxtSf23niQ"
   },
   "source": [
    "# Music Generation using GANs\n",
    "\n",
    "In this notebook, we will use a simplified version of [C-RNN-GAN](https://arxiv.org/abs/1611.09904) to generate music. We will focus upon:\n",
    "+ Utilities to prepare generator model\n",
    "+ Utilities to prepare generator model\n",
    "+ Data preparation\n",
    "+ Utility to prepare custom training loop\n",
    "\n",
    "We will make use of the same dataset we used in LSTM based music generation notebook. "
   ]
  },
  {
   "cell_type": "markdown",
   "metadata": {},
   "source": [
    "[![Open In Colab](https://colab.research.google.com/assets/colab-badge.svg)](https://colab.research.google.com/github/PacktPublishing/Hands-On-Generative-AI-with-Python-and-TensorFlow-2/blob/master/Chapter_10/crnn_gan/simple_gan.ipynb)"
   ]
  },
  {
   "cell_type": "markdown",
   "metadata": {
    "id": "s6jWc_KJ4LJh"
   },
   "source": [
    "## Import Libraries"
   ]
  },
  {
   "cell_type": "code",
   "execution_count": 2,
   "metadata": {
    "id": "jH-Mo1pPm3wO"
   },
   "outputs": [],
   "source": [
    "import sys\n",
    "import matplotlib.pyplot as plt\n",
    "import numpy as np\n",
    "import pickle\n",
    "import glob\n",
    "from music21 import converter, instrument, note, chord, stream\n",
    "\n",
    "from tensorflow.keras.layers import Input, Dense, Reshape, Dropout, LSTM, Bidirectional\n",
    "from tensorflow.keras.layers import BatchNormalization, Activation, ZeroPadding2D\n",
    "from tensorflow.keras.layers import LeakyReLU\n",
    "from tensorflow.keras.models import Sequential, Model\n",
    "from tensorflow.keras.optimizers import Adam\n",
    "from tensorflow.keras.utils import to_categorical"
   ]
  },
  {
   "cell_type": "markdown",
   "metadata": {
    "id": "bna2SOu14NxT"
   },
   "source": [
    "## Extract MIDI Dataset"
   ]
  },
  {
   "cell_type": "code",
   "execution_count": null,
   "metadata": {
    "id": "r3Ka5sesrwjS"
   },
   "outputs": [],
   "source": [
    "!unzip midi_dataset.zip"
   ]
  },
  {
   "cell_type": "markdown",
   "metadata": {
    "id": "tNChztPm4QvE"
   },
   "source": [
    "## Prepare Generator"
   ]
  },
  {
   "cell_type": "code",
   "execution_count": 4,
   "metadata": {
    "id": "yaV0kC5-hSl5"
   },
   "outputs": [],
   "source": [
    "def build_generator(latent_dim,seq_shape):\n",
    "\n",
    "  model = Sequential()\n",
    "  model.add(Dense(256, input_dim=latent_dim))\n",
    "  model.add(LeakyReLU(alpha=0.2))\n",
    "  model.add(BatchNormalization(momentum=0.8))\n",
    "  model.add(Dense(512))\n",
    "  model.add(LeakyReLU(alpha=0.2))\n",
    "  model.add(BatchNormalization(momentum=0.8))\n",
    "  model.add(Dense(1024))\n",
    "  model.add(LeakyReLU(alpha=0.2))\n",
    "  model.add(BatchNormalization(momentum=0.8))\n",
    "  model.add(Dense(np.prod(seq_shape), activation='tanh'))\n",
    "  model.add(Reshape(seq_shape))\n",
    "  model.summary()\n",
    "\n",
    "  noise = Input(shape=(latent_dim,))\n",
    "  seq = model(noise)\n",
    "\n",
    "  return Model(noise, seq)"
   ]
  },
  {
   "cell_type": "markdown",
   "metadata": {
    "id": "Qp90ZuWS4Uh7"
   },
   "source": [
    "## Prepare Discriminator"
   ]
  },
  {
   "cell_type": "code",
   "execution_count": 3,
   "metadata": {
    "id": "WP4Xj19fhKkX"
   },
   "outputs": [],
   "source": [
    "def build_discriminator(seq_shape):\n",
    "\n",
    "  model = Sequential()\n",
    "  model.add(LSTM(512, input_shape=seq_shape, return_sequences=True))\n",
    "  model.add(Bidirectional(LSTM(512)))\n",
    "  model.add(Dense(512))\n",
    "  model.add(LeakyReLU(alpha=0.2))\n",
    "  model.add(Dense(256))\n",
    "  model.add(LeakyReLU(alpha=0.2))\n",
    "  model.add(Dense(1, activation='sigmoid'))\n",
    "  model.summary()\n",
    "\n",
    "  seq = Input(shape=seq_shape)\n",
    "  validity = model(seq)\n",
    "\n",
    "  return Model(seq, validity)"
   ]
  },
  {
   "cell_type": "markdown",
   "metadata": {
    "id": "X5ncO4Tj4Wr9"
   },
   "source": [
    "## Data Preparation Utility"
   ]
  },
  {
   "cell_type": "code",
   "execution_count": 5,
   "metadata": {
    "id": "IVqynnzTkRd9"
   },
   "outputs": [],
   "source": [
    "def prepare_sequences(notes, n_vocab):\n",
    "    \"\"\" Prepare the sequences used by the Neural Network \"\"\"\n",
    "    sequence_length = 100\n",
    "\n",
    "    # Get all pitch names\n",
    "    pitchnames = sorted(set(item for item in notes))\n",
    "\n",
    "    # Create a dictionary to map pitches to integers\n",
    "    note_to_int = dict((note, number) for number, note in enumerate(pitchnames))\n",
    "\n",
    "    network_input = []\n",
    "    network_output = []\n",
    "\n",
    "    # create input sequences and the corresponding outputs\n",
    "    for i in range(0, len(notes) - sequence_length, 1):\n",
    "        sequence_in = notes[i:i + sequence_length]\n",
    "        sequence_out = notes[i + sequence_length]\n",
    "        network_input.append([note_to_int[char] for char in sequence_in])\n",
    "        network_output.append(note_to_int[sequence_out])\n",
    "\n",
    "    n_patterns = len(network_input)\n",
    "\n",
    "    # Reshape the input into a format compatible with LSTM layers\n",
    "    network_input = np.reshape(network_input, (n_patterns, sequence_length, 1))\n",
    "    \n",
    "    # Normalize input between -1 and 1\n",
    "    network_input = (network_input - float(n_vocab)/2) / (float(n_vocab)/2)\n",
    "    network_output = to_categorical(network_output)\n",
    "\n",
    "    return (network_input, network_output)"
   ]
  },
  {
   "cell_type": "markdown",
   "metadata": {
    "id": "jwmEUAGc4agg"
   },
   "source": [
    "## Utility to Transform Model output to MIDI"
   ]
  },
  {
   "cell_type": "code",
   "execution_count": 6,
   "metadata": {
    "id": "hKnNp_keku2_"
   },
   "outputs": [],
   "source": [
    "def create_midi(prediction_output, filename):\n",
    "    \"\"\" convert the output from the prediction to notes and create a midi file\n",
    "        from the notes \"\"\"\n",
    "    offset = 0\n",
    "    output_notes = []\n",
    "\n",
    "    # create note and chord objects based on the values generated by the model\n",
    "    for item in prediction_output:\n",
    "        pattern = item[0]\n",
    "        # pattern is a chord\n",
    "        if ('.' in pattern) or pattern.isdigit():\n",
    "            notes_in_chord = pattern.split('.')\n",
    "            notes = []\n",
    "            for current_note in notes_in_chord:\n",
    "                new_note = note.Note(int(current_note))\n",
    "                new_note.storedInstrument = instrument.Piano()\n",
    "                notes.append(new_note)\n",
    "            new_chord = chord.Chord(notes)\n",
    "            new_chord.offset = offset\n",
    "            output_notes.append(new_chord)\n",
    "        # pattern is a note\n",
    "        else:\n",
    "            new_note = note.Note(pattern)\n",
    "            new_note.offset = offset\n",
    "            new_note.storedInstrument = instrument.Piano()\n",
    "            output_notes.append(new_note)\n",
    "\n",
    "        # increase offset each iteration so that notes do not stack\n",
    "        offset += 0.5\n",
    "\n",
    "    midi_stream = stream.Stream(output_notes)\n",
    "    midi_stream.write('midi', fp='{}.mid'.format(filename))"
   ]
  },
  {
   "cell_type": "markdown",
   "metadata": {
    "id": "sAzDSztC4jlZ"
   },
   "source": [
    "## Utilities for Training GAN"
   ]
  },
  {
   "cell_type": "code",
   "execution_count": 7,
   "metadata": {
    "id": "ln8frFyZkbhQ"
   },
   "outputs": [],
   "source": [
    "def generate(latent_dim, generator, input_notes,filename='gan_final'):\n",
    "  # Get pitch names and store in a dictionary\n",
    "  notes = input_notes\n",
    "  pitchnames = sorted(set(item for item in notes))\n",
    "  int_to_note = dict((number, note) for number, note in enumerate(pitchnames))\n",
    "\n",
    "  # Use random noise to generate sequences\n",
    "  noise = np.random.normal(0, 1, (1, latent_dim))\n",
    "  predictions = generator.predict(noise)\n",
    "\n",
    "  pred_notes = [x*242+242 for x in predictions[0]]\n",
    "  pred_notes = [int_to_note[int(x)] for x in pred_notes]\n",
    "\n",
    "  create_midi(pred_notes, filename)"
   ]
  },
  {
   "cell_type": "code",
   "execution_count": 8,
   "metadata": {
    "id": "FymBALNek1Ag"
   },
   "outputs": [],
   "source": [
    "def plot_loss(disc_loss, gen_loss):\n",
    "  plt.plot(disc_loss, c='red')\n",
    "  plt.plot(gen_loss, c='blue')\n",
    "  plt.title(\"GAN Loss per Epoch\")\n",
    "  plt.legend(['Discriminator', 'Generator'])\n",
    "  plt.xlabel('Epoch')\n",
    "  plt.ylabel('Loss')\n",
    "  plt.savefig('GAN_Loss_per_Epoch_final.png', transparent=True)\n",
    "  plt.show()\n",
    "  plt.close()"
   ]
  },
  {
   "cell_type": "code",
   "execution_count": 9,
   "metadata": {
    "id": "EcgGxU1khjq8"
   },
   "outputs": [],
   "source": [
    "def train(latent_dim, \n",
    "          notes, \n",
    "          generator, \n",
    "          discriminator, \n",
    "          gan,\n",
    "          epochs, \n",
    "          batch_size=128, \n",
    "          sample_interval=50):\n",
    "\n",
    "  disc_loss =[]\n",
    "  gen_loss = []\n",
    "\n",
    "  n_vocab = len(set(notes))\n",
    "  X_train, y_train = prepare_sequences(notes, n_vocab)\n",
    "\n",
    "  # ground truths\n",
    "  real = np.ones((batch_size, 1))\n",
    "  fake = np.zeros((batch_size, 1))\n",
    "\n",
    "  for epoch in range(epochs):\n",
    "\n",
    "      idx = np.random.randint(0, X_train.shape[0], batch_size)\n",
    "      real_seqs = X_train[idx]\n",
    "\n",
    "      noise = np.random.normal(0, 1, (batch_size, latent_dim))\n",
    "\n",
    "      # generate a batch of new note sequences\n",
    "      gen_seqs = generator.predict(noise)\n",
    "\n",
    "      # train the discriminator\n",
    "      d_loss_real = discriminator.train_on_batch(real_seqs, real)\n",
    "      d_loss_fake = discriminator.train_on_batch(gen_seqs, fake)\n",
    "      d_loss = 0.5 * np.add(d_loss_real, d_loss_fake)\n",
    "\n",
    "\n",
    "      #  train the Generator\n",
    "      noise = np.random.normal(0, 1, (batch_size, latent_dim))\n",
    "      g_loss = gan.train_on_batch(noise, real)\n",
    "\n",
    "      # visualize progress\n",
    "      if epoch % sample_interval == 0:\n",
    "        print (\"%d [D loss: %f, acc.: %.2f%%] [G loss: %f]\" % (epoch, \n",
    "                                                               d_loss[0], \n",
    "                                                               100*d_loss[1], \n",
    "                                                               g_loss))\n",
    "        disc_loss.append(d_loss[0])\n",
    "        gen_loss.append(g_loss)\n",
    "        generate(latent_dim, generator, notes,filename='gan_epoch'+str(epoch))\n",
    "  generate(latent_dim, generator, notes)\n",
    "  plot_loss(disc_loss,gen_loss)"
   ]
  },
  {
   "cell_type": "markdown",
   "metadata": {
    "id": "NYl0mzkK4nb_"
   },
   "source": [
    "## Prepare Generator, Discriminator and GAN Models"
   ]
  },
  {
   "cell_type": "code",
   "execution_count": 10,
   "metadata": {
    "colab": {
     "base_uri": "https://localhost:8080/"
    },
    "id": "QQDKiOwVk_VA",
    "outputId": "9d878e55-4f35-4b18-86d2-bf9a78c12c26"
   },
   "outputs": [
    {
     "name": "stdout",
     "output_type": "stream",
     "text": [
      "Model: \"sequential\"\n",
      "_________________________________________________________________\n",
      "Layer (type)                 Output Shape              Param #   \n",
      "=================================================================\n",
      "lstm (LSTM)                  (None, 100, 512)          1052672   \n",
      "_________________________________________________________________\n",
      "bidirectional (Bidirectional (None, 1024)              4198400   \n",
      "_________________________________________________________________\n",
      "dense (Dense)                (None, 512)               524800    \n",
      "_________________________________________________________________\n",
      "leaky_re_lu (LeakyReLU)      (None, 512)               0         \n",
      "_________________________________________________________________\n",
      "dense_1 (Dense)              (None, 256)               131328    \n",
      "_________________________________________________________________\n",
      "leaky_re_lu_1 (LeakyReLU)    (None, 256)               0         \n",
      "_________________________________________________________________\n",
      "dense_2 (Dense)              (None, 1)                 257       \n",
      "=================================================================\n",
      "Total params: 5,907,457\n",
      "Trainable params: 5,907,457\n",
      "Non-trainable params: 0\n",
      "_________________________________________________________________\n",
      "Model: \"sequential_1\"\n",
      "_________________________________________________________________\n",
      "Layer (type)                 Output Shape              Param #   \n",
      "=================================================================\n",
      "dense_3 (Dense)              (None, 256)               256256    \n",
      "_________________________________________________________________\n",
      "leaky_re_lu_2 (LeakyReLU)    (None, 256)               0         \n",
      "_________________________________________________________________\n",
      "batch_normalization (BatchNo (None, 256)               1024      \n",
      "_________________________________________________________________\n",
      "dense_4 (Dense)              (None, 512)               131584    \n",
      "_________________________________________________________________\n",
      "leaky_re_lu_3 (LeakyReLU)    (None, 512)               0         \n",
      "_________________________________________________________________\n",
      "batch_normalization_1 (Batch (None, 512)               2048      \n",
      "_________________________________________________________________\n",
      "dense_5 (Dense)              (None, 1024)              525312    \n",
      "_________________________________________________________________\n",
      "leaky_re_lu_4 (LeakyReLU)    (None, 1024)              0         \n",
      "_________________________________________________________________\n",
      "batch_normalization_2 (Batch (None, 1024)              4096      \n",
      "_________________________________________________________________\n",
      "dense_6 (Dense)              (None, 100)               102500    \n",
      "_________________________________________________________________\n",
      "reshape (Reshape)            (None, 100, 1)            0         \n",
      "=================================================================\n",
      "Total params: 1,022,820\n",
      "Trainable params: 1,019,236\n",
      "Non-trainable params: 3,584\n",
      "_________________________________________________________________\n"
     ]
    }
   ],
   "source": [
    "rows = 100\n",
    "seq_length = rows\n",
    "seq_shape = (seq_length, 1)\n",
    "latent_dim = 1000\n",
    "\n",
    "optimizer = Adam(0.0002, 0.5)\n",
    "\n",
    "# Build and compile the discriminator\n",
    "discriminator = build_discriminator(seq_shape)\n",
    "discriminator.compile(loss='binary_crossentropy', optimizer=optimizer, metrics=['accuracy'])\n",
    "\n",
    "# Build the generator\n",
    "generator = build_generator(latent_dim,seq_shape)\n",
    "\n",
    "# The generator takes noise as input and generates note sequences\n",
    "z = Input(shape=(latent_dim,))\n",
    "generated_seq = generator(z)\n",
    "\n",
    "# For the combined model we will only train the generator\n",
    "discriminator.trainable = False\n",
    "\n",
    "# The discriminator takes generated images as input and determines validity\n",
    "validity = discriminator(generated_seq)\n",
    "\n",
    "# The combined model  (stacked generator and discriminator)\n",
    "# Trains the generator to fool the discriminator\n",
    "gan = Model(z, validity)\n",
    "gan.compile(loss='binary_crossentropy', optimizer=optimizer)"
   ]
  },
  {
   "cell_type": "markdown",
   "metadata": {
    "id": "XSrebrOy4ufl"
   },
   "source": [
    "## Prepare Dataset"
   ]
  },
  {
   "cell_type": "code",
   "execution_count": 11,
   "metadata": {
    "id": "8__04XsUGRNe"
   },
   "outputs": [],
   "source": [
    "from tqdm.notebook import tqdm"
   ]
  },
  {
   "cell_type": "code",
   "execution_count": 12,
   "metadata": {
    "id": "DEczY4icEnLC"
   },
   "outputs": [],
   "source": [
    "def get_notes():\n",
    "    \"\"\" Get all the notes and chords from the midi files \"\"\"\n",
    "    notes = []\n",
    "\n",
    "    for file in tqdm(glob.glob(\"midi_dataset/*.mid\")):\n",
    "        midi = converter.parse(file)\n",
    "\n",
    "        print(\"Parsing %s\" % file)\n",
    "\n",
    "        notes_to_parse = None\n",
    "\n",
    "        try: # file has instrument parts\n",
    "            s2 = instrument.partitionByInstrument(midi)\n",
    "            notes_to_parse = s2.parts[0].recurse() \n",
    "        except: # file has notes in a flat structure\n",
    "            notes_to_parse = midi.flat.notes\n",
    "            \n",
    "        for element in notes_to_parse:\n",
    "            if isinstance(element, note.Note):\n",
    "                notes.append(str(element.pitch))\n",
    "            elif isinstance(element, chord.Chord):\n",
    "                notes.append('.'.join(str(n) for n in element.normalOrder))\n",
    "\n",
    "    return notes"
   ]
  },
  {
   "cell_type": "code",
   "execution_count": 13,
   "metadata": {
    "colab": {
     "base_uri": "https://localhost:8080/",
     "height": 1000,
     "referenced_widgets": [
      "8774db246cb849f28c0847f9fa6a5221",
      "419c3b0791004eb591d0b54f79ff48d7",
      "9b5b084be38f4743ae6ce10ab7731ee5",
      "9a68046518fa43baa61aaed22169c685",
      "b463aedb63ba49acb8383d0c1118f014",
      "c85fd46b1fe049e2973b4919da8f0dc9",
      "a1486ca5e1c444d49b6bdb410d2a0466",
      "c4f95c2193044344b22541f0bca5af79"
     ]
    },
    "id": "MS9EP7VvGJjS",
    "outputId": "3f9059be-7208-4d95-e312-8b82d904c482"
   },
   "outputs": [
    {
     "data": {
      "application/vnd.jupyter.widget-view+json": {
       "model_id": "8774db246cb849f28c0847f9fa6a5221",
       "version_major": 2,
       "version_minor": 0
      },
      "text/plain": [
       "HBox(children=(FloatProgress(value=0.0, max=99.0), HTML(value='')))"
      ]
     },
     "metadata": {
      "tags": []
     },
     "output_type": "display_data"
    },
    {
     "name": "stdout",
     "output_type": "stream",
     "text": [
      "Parsing midi_dataset/Sechs Variationen.mid\n",
      "Parsing midi_dataset/Waltz No.10b.mid\n",
      "Parsing midi_dataset/Op.51.mid\n",
      "Parsing midi_dataset/Piano Sonatina No.2 Op 49.mid\n",
      "Parsing midi_dataset/Waltz No.1.mid\n",
      "Parsing midi_dataset/Ten Easy Piano Pieces Slovak Peasant's Dance Mov.3.mid\n",
      "Parsing midi_dataset/32 Variations on a theme.mid\n",
      "Parsing midi_dataset/Piano version of Bachs two part inventions No.2.mid\n",
      "Parsing midi_dataset/Unknown Piano Sonata Mov.3.mid\n",
      "Parsing midi_dataset/Toccata and Fugue in D minor, BWV 565. (Busoni Piano Arr.mid\n",
      "Parsing midi_dataset/Piano version of Bachs two part inventions No.3.mid\n",
      "Parsing midi_dataset/Piano version of Bachs two part inventions No.14.mid\n",
      "Parsing midi_dataset/Romance piano.mid\n",
      "Parsing midi_dataset/Op33 No.4.mid\n",
      "Parsing midi_dataset/Ten Easy Piano Pieces Aurora Mov.7.mid\n",
      "Parsing midi_dataset/Sieben Bagatellen, in F Major, Opus.33, No.3.mid\n",
      "Parsing midi_dataset/A Rumanian Dance No.1.mid\n",
      "Parsing midi_dataset/Rondo Opus.51, No.1.mid\n",
      "Parsing midi_dataset/Rhapsody in G Major (183).mid\n",
      "Parsing midi_dataset/Piano version of Bachs two part inventions No...mid\n",
      "Parsing midi_dataset/Sieben Bagatellen, C Major, Opus.33, No.2.mid\n",
      "Parsing midi_dataset/Sonata Presto.mid\n",
      "Parsing midi_dataset/Rondo Opus.51, No.2.mid\n",
      "Parsing midi_dataset/Waltz No.6.mid\n",
      "Parsing midi_dataset/Piano version of Bachs two part inventions No.4.mid\n",
      "Parsing midi_dataset/Piano version of Bachs two part inventions No.15.mid\n",
      "Parsing midi_dataset/Piano version of Bachs two part inventions No.8.mid\n",
      "Parsing midi_dataset/Piano Sonata No.27.mid\n",
      "Parsing midi_dataset/Piano version of Bachs two part inventions No.9.mid\n",
      "Parsing midi_dataset/Waltz No.2.mid\n",
      "Parsing midi_dataset/Waltz No.9.mid\n",
      "Parsing midi_dataset/Allegro Appassionate Op.43.mid\n",
      "Parsing midi_dataset/Piano version of Bachs two part inventions No.7.mid\n",
      "Parsing midi_dataset/Prelude and Fugue in C Sharp BWV 872.mid\n",
      "Parsing midi_dataset/Sonata, Opus.111 C minor No.2.mid\n",
      "Parsing midi_dataset/Unknown Piano Sonata Mov.2.mid\n",
      "Parsing midi_dataset/Sieben Bagatellen, in D Major, Opus.33, No.6.mid\n",
      "Parsing midi_dataset/Piano version of Bachs two part inventions No.5.mid\n",
      "Parsing midi_dataset/Rondo in B flat.mid\n",
      "Parsing midi_dataset/Hungarian Dance No.3.mid\n",
      "Parsing midi_dataset/Ten Easy Piano Pieces Hungarian Folksong Mov.8.mid\n",
      "Parsing midi_dataset/Ten Easy Piano Pieces Peasant's Song Mov.1.mid\n",
      "Parsing midi_dataset/Piano Concerto No5,Mov.1.mid\n",
      "Parsing midi_dataset/Piano Sonata No 28 in B flat -Hammerklavier- Op.106, 2nd Mov Scherzo.mid\n",
      "Parsing midi_dataset/Sieben Bagatellen, in C Major, Opus.33, No.5.mid\n",
      "Parsing midi_dataset/Sonata in Bflat Major Op.106.mid\n",
      "Parsing midi_dataset/Sieben Bagatellen, in E flat Major, Opus.33, No.1.mid\n",
      "Parsing midi_dataset/Piano Sonata No.27,  3rd mov.mid\n",
      "Parsing midi_dataset/Ten Easy Piano Pieces Dedication Mov.0.mid\n",
      "Parsing midi_dataset/Sonata No.14 Op 27 Sonata Quasi Una Fantasia.mid\n",
      "Parsing midi_dataset/Andante in F Major.mid\n",
      "Parsing midi_dataset/Piano version of Bachs two part inventions No.11.mid\n",
      "Parsing midi_dataset/Piano Sonata No2 Assai vivace.mid\n",
      "Parsing midi_dataset/Piano Concerto No5,Mov.3.mid\n",
      "Parsing midi_dataset/Waltz No.15.mid\n",
      "Parsing midi_dataset/Piano version of Bachs two part inventions No.1.mid\n",
      "Parsing midi_dataset/Ten Easy Piano Pieces Sostenuto Mov.4.mid\n",
      "Parsing midi_dataset/Children's piece No.2.mid\n",
      "Parsing midi_dataset/Clavierubung Part 111,Duet No.2 in F Major.mid\n",
      "Parsing midi_dataset/Piano Sonatina in G Op79.mid\n",
      "Parsing midi_dataset/Piano version of Bachs two part inventions No.6.mid\n",
      "Parsing midi_dataset/Waltz No.4.mid\n",
      "Parsing midi_dataset/Minuet in G.mid\n",
      "Parsing midi_dataset/Prelude and Fugue in D.mid\n",
      "Parsing midi_dataset/Ten Easy Piano Pieces Finger-Exercise Mov.9.mid\n",
      "Parsing midi_dataset/Waltz No.5.mid\n",
      "Parsing midi_dataset/Hungarian Dance No.5.mid\n",
      "Parsing midi_dataset/Piano version of Bachs two part inventions No.12.mid\n",
      "Parsing midi_dataset/Sonata No.14 Op 27 Moonlight Sonata.mid\n",
      "Parsing midi_dataset/Piano version of Bachs two part inventions No.10.mid\n",
      "Parsing midi_dataset/Piano Romance  No.50.mid\n",
      "Parsing midi_dataset/Seven Inversions of God Save the King.mid\n",
      "Parsing midi_dataset/March No.3.mid\n",
      "Parsing midi_dataset/Sonata, Opus.111 C minor No.1.mid\n",
      "Parsing midi_dataset/Waltz No.14.mid\n",
      "Parsing midi_dataset/Sonata Opus.81a -Les Adieux- E flat No.1.mid\n",
      "Parsing midi_dataset/Waltz No.13.mid\n",
      "Parsing midi_dataset/Rage over a lost pennny.mid\n",
      "Parsing midi_dataset/Ten Easy Piano Pieces An Evening at the Village Mov.5.mid\n",
      "Parsing midi_dataset/Mikrokosmos.mid\n",
      "Parsing midi_dataset/Praelude & Fugue No.2.mid\n",
      "Parsing midi_dataset/Sieben Bagatellen, in A Major, Opus.33, No.4.mid\n",
      "Parsing midi_dataset/Ballade Op.10, No.1.mid\n",
      "Parsing midi_dataset/Ten Easy Piano Pieces Hungarian Folksong Mov.6.mid\n",
      "Parsing midi_dataset/Waltz No.3.mid\n",
      "Parsing midi_dataset/Fur Elise.mid\n",
      "Parsing midi_dataset/Ballade in G Minor Op.118, No.3.mid\n",
      "Parsing midi_dataset/Ten Easy Piano Pieces Painful Wrestling Mov.2.mid\n",
      "Parsing midi_dataset/Prelude and Fugue in A, BWV 888.mid\n",
      "Parsing midi_dataset/Sonata Opus.81a -Les Adieux- E flat No.2 & 3.mid\n",
      "Parsing midi_dataset/Ten Easy Piano Pieces Bear Dance Mov.10.mid\n",
      "Parsing midi_dataset/Waltz No.15b.mid\n",
      "Parsing midi_dataset/Waltz No.8.mid\n",
      "Parsing midi_dataset/Piano version of Bachs two part inventions No.13.mid\n",
      "Parsing midi_dataset/Tocatto No.1 in F Sharp Minor, BWV 910.mid\n",
      "Parsing midi_dataset/Unknown Piano Sonata Mov.1.mid\n",
      "Parsing midi_dataset/Sonata op78 1st mov.mid\n",
      "Parsing midi_dataset/Waltz No.10.mid\n",
      "Parsing midi_dataset/Courting Song.mid\n",
      "\n"
     ]
    }
   ],
   "source": [
    "# Load and convert the data\n",
    "notes = get_notes()"
   ]
  },
  {
   "cell_type": "markdown",
   "metadata": {
    "id": "jOYi64ad4ynu"
   },
   "source": [
    "## Train the GAN"
   ]
  },
  {
   "cell_type": "code",
   "execution_count": 14,
   "metadata": {
    "colab": {
     "base_uri": "https://localhost:8080/",
     "height": 1000
    },
    "id": "3jyMINDklgzS",
    "outputId": "86511fda-940e-4b83-b4e3-eabf1e645f3b"
   },
   "outputs": [
    {
     "name": "stdout",
     "output_type": "stream",
     "text": [
      "0 [D loss: 0.700599, acc.: 2.34%] [G loss: 0.690003]\n",
      "5 [D loss: 0.330439, acc.: 87.50%] [G loss: 0.965924]\n",
      "10 [D loss: 0.169127, acc.: 95.31%] [G loss: 2.610085]\n",
      "15 [D loss: 0.522524, acc.: 78.12%] [G loss: 1.376299]\n",
      "20 [D loss: 0.284567, acc.: 91.41%] [G loss: 2.609391]\n",
      "25 [D loss: 0.248017, acc.: 91.41%] [G loss: 2.243087]\n",
      "30 [D loss: 0.337728, acc.: 88.28%] [G loss: 2.095068]\n",
      "35 [D loss: 0.339113, acc.: 81.25%] [G loss: 2.083154]\n",
      "40 [D loss: 0.351858, acc.: 84.38%] [G loss: 1.952475]\n",
      "45 [D loss: 0.273926, acc.: 90.62%] [G loss: 2.543951]\n",
      "50 [D loss: 0.248093, acc.: 90.62%] [G loss: 2.172482]\n",
      "55 [D loss: 0.271015, acc.: 91.41%] [G loss: 2.190949]\n",
      "60 [D loss: 0.356364, acc.: 81.25%] [G loss: 1.983520]\n",
      "65 [D loss: 0.405131, acc.: 81.25%] [G loss: 1.702689]\n",
      "70 [D loss: 0.283381, acc.: 87.50%] [G loss: 2.024445]\n",
      "75 [D loss: 0.393422, acc.: 80.47%] [G loss: 1.576271]\n",
      "80 [D loss: 0.443313, acc.: 78.91%] [G loss: 1.448712]\n",
      "85 [D loss: 0.478743, acc.: 78.91%] [G loss: 1.748747]\n",
      "90 [D loss: 0.419174, acc.: 82.03%] [G loss: 1.563135]\n",
      "95 [D loss: 0.605185, acc.: 66.41%] [G loss: 1.500393]\n",
      "100 [D loss: 0.445336, acc.: 79.69%] [G loss: 1.744036]\n",
      "105 [D loss: 0.475579, acc.: 77.34%] [G loss: 1.837940]\n",
      "110 [D loss: 0.466865, acc.: 78.91%] [G loss: 1.504704]\n",
      "115 [D loss: 0.546925, acc.: 74.22%] [G loss: 1.405013]\n",
      "120 [D loss: 0.368323, acc.: 77.34%] [G loss: 3.156564]\n",
      "125 [D loss: 0.614834, acc.: 69.53%] [G loss: 1.279521]\n",
      "130 [D loss: 0.495636, acc.: 75.00%] [G loss: 1.788097]\n",
      "135 [D loss: 0.559726, acc.: 74.22%] [G loss: 1.299424]\n",
      "140 [D loss: 0.498714, acc.: 77.34%] [G loss: 1.562320]\n",
      "145 [D loss: 0.526421, acc.: 75.00%] [G loss: 1.254598]\n",
      "150 [D loss: 0.619119, acc.: 66.41%] [G loss: 1.231451]\n",
      "155 [D loss: 0.586559, acc.: 68.75%] [G loss: 1.293758]\n",
      "160 [D loss: 0.565761, acc.: 70.31%] [G loss: 1.328592]\n",
      "165 [D loss: 0.588010, acc.: 67.97%] [G loss: 1.293877]\n",
      "170 [D loss: 0.539475, acc.: 75.78%] [G loss: 1.601530]\n",
      "175 [D loss: 0.604363, acc.: 66.41%] [G loss: 1.113365]\n",
      "180 [D loss: 0.615736, acc.: 67.97%] [G loss: 1.073653]\n",
      "185 [D loss: 0.567547, acc.: 75.00%] [G loss: 1.203989]\n",
      "190 [D loss: 0.665460, acc.: 58.59%] [G loss: 1.032968]\n",
      "195 [D loss: 0.594707, acc.: 66.41%] [G loss: 1.124367]\n",
      "200 [D loss: 0.631250, acc.: 60.16%] [G loss: 1.083897]\n",
      "205 [D loss: 0.596987, acc.: 70.31%] [G loss: 1.108447]\n",
      "210 [D loss: 0.632303, acc.: 64.84%] [G loss: 0.894515]\n",
      "215 [D loss: 0.613716, acc.: 64.84%] [G loss: 0.939993]\n",
      "220 [D loss: 0.675116, acc.: 56.25%] [G loss: 0.993536]\n",
      "225 [D loss: 0.627448, acc.: 62.50%] [G loss: 1.263386]\n",
      "230 [D loss: 2.464319, acc.: 31.25%] [G loss: 3.088368]\n",
      "235 [D loss: 0.617016, acc.: 64.84%] [G loss: 0.955980]\n",
      "240 [D loss: 0.667406, acc.: 63.28%] [G loss: 0.843850]\n",
      "245 [D loss: 0.622891, acc.: 67.97%] [G loss: 0.858379]\n",
      "250 [D loss: 0.702244, acc.: 61.72%] [G loss: 0.918469]\n",
      "255 [D loss: 0.653216, acc.: 64.84%] [G loss: 0.759386]\n",
      "260 [D loss: 0.706601, acc.: 55.47%] [G loss: 0.739120]\n",
      "265 [D loss: 0.641720, acc.: 64.84%] [G loss: 0.885466]\n",
      "270 [D loss: 0.658520, acc.: 62.50%] [G loss: 0.761149]\n",
      "275 [D loss: 0.672581, acc.: 60.16%] [G loss: 0.765445]\n",
      "280 [D loss: 0.674952, acc.: 57.81%] [G loss: 0.743806]\n",
      "285 [D loss: 0.665785, acc.: 61.72%] [G loss: 0.747912]\n",
      "290 [D loss: 0.694079, acc.: 50.00%] [G loss: 0.719472]\n",
      "295 [D loss: 0.695304, acc.: 52.34%] [G loss: 0.741878]\n"
     ]
    },
    {
     "data": {
      "image/png": "[encoded data removed]",
      "text/plain": [
       "<Figure size 432x288 with 1 Axes>"
      ]
     },
     "metadata": {
      "image/png": {
       "height": 277,
       "width": 385
      },
      "needs_background": "light",
      "tags": []
     },
     "output_type": "display_data"
    }
   ],
   "source": [
    "train(latent_dim, notes, generator, discriminator, gan,epochs=300, batch_size=64, sample_interval=5)"
   ]
  },
  {
   "cell_type": "code",
   "execution_count": null,
   "metadata": {
    "id": "r5pdv4I-EzUW"
   },
   "outputs": [],
   "source": []
  }
 ],
 "metadata": {
  "accelerator": "GPU",
  "colab": {
   "collapsed_sections": [],
   "name": "simple_gan.ipynb",
   "provenance": []
  },
  "kernelspec": {
   "display_name": "Python 3",
   "language": "python",
   "name": "python3"
  },
  "language_info": {
   "codemirror_mode": {
    "name": "ipython",
    "version": 3
   },
   "file_extension": ".py",
   "mimetype": "text/x-python",
   "name": "python",
   "nbconvert_exporter": "python",
   "pygments_lexer": "ipython3",
   "version": "3.7.6"
  },
  "widgets": {
   "application/vnd.jupyter.widget-state+json": {
    "419c3b0791004eb591d0b54f79ff48d7": {
     "model_module": "@jupyter-widgets/base",
     "model_name": "LayoutModel",
     "state": {
      "_model_module": "@jupyter-widgets/base",
      "_model_module_version": "1.2.0",
      "_model_name": "LayoutModel",
      "_view_count": null,
      "_view_module": "@jupyter-widgets/base",
      "_view_module_version": "1.2.0",
      "_view_name": "LayoutView",
      "align_content": null,
      "align_items": null,
      "align_self": null,
      "border": null,
      "bottom": null,
      "display": null,
      "flex": null,
      "flex_flow": null,
      "grid_area": null,
      "grid_auto_columns": null,
      "grid_auto_flow": null,
      "grid_auto_rows": null,
      "grid_column": null,
      "grid_gap": null,
      "grid_row": null,
      "grid_template_areas": null,
      "grid_template_columns": null,
      "grid_template_rows": null,
      "height": null,
      "justify_content": null,
      "justify_items": null,
      "left": null,
      "margin": null,
      "max_height": null,
      "max_width": null,
      "min_height": null,
      "min_width": null,
      "object_fit": null,
      "object_position": null,
      "order": null,
      "overflow": null,
      "overflow_x": null,
      "overflow_y": null,
      "padding": null,
      "right": null,
      "top": null,
      "visibility": null,
      "width": null
     }
    },
    "8774db246cb849f28c0847f9fa6a5221": {
     "model_module": "@jupyter-widgets/controls",
     "model_name": "HBoxModel",
     "state": {
      "_dom_classes": [],
      "_model_module": "@jupyter-widgets/controls",
      "_model_module_version": "1.5.0",
      "_model_name": "HBoxModel",
      "_view_count": null,
      "_view_module": "@jupyter-widgets/controls",
      "_view_module_version": "1.5.0",
      "_view_name": "HBoxView",
      "box_style": "",
      "children": [
       "IPY_MODEL_9b5b084be38f4743ae6ce10ab7731ee5",
       "IPY_MODEL_9a68046518fa43baa61aaed22169c685"
      ],
      "layout": "IPY_MODEL_419c3b0791004eb591d0b54f79ff48d7"
     }
    },
    "9a68046518fa43baa61aaed22169c685": {
     "model_module": "@jupyter-widgets/controls",
     "model_name": "HTMLModel",
     "state": {
      "_dom_classes": [],
      "_model_module": "@jupyter-widgets/controls",
      "_model_module_version": "1.5.0",
      "_model_name": "HTMLModel",
      "_view_count": null,
      "_view_module": "@jupyter-widgets/controls",
      "_view_module_version": "1.5.0",
      "_view_name": "HTMLView",
      "description": "",
      "description_tooltip": null,
      "layout": "IPY_MODEL_c4f95c2193044344b22541f0bca5af79",
      "placeholder": "​",
      "style": "IPY_MODEL_a1486ca5e1c444d49b6bdb410d2a0466",
      "value": " 99/99 [07:44&lt;00:00,  4.69s/it]"
     }
    },
    "9b5b084be38f4743ae6ce10ab7731ee5": {
     "model_module": "@jupyter-widgets/controls",
     "model_name": "FloatProgressModel",
     "state": {
      "_dom_classes": [],
      "_model_module": "@jupyter-widgets/controls",
      "_model_module_version": "1.5.0",
      "_model_name": "FloatProgressModel",
      "_view_count": null,
      "_view_module": "@jupyter-widgets/controls",
      "_view_module_version": "1.5.0",
      "_view_name": "ProgressView",
      "bar_style": "success",
      "description": "100%",
      "description_tooltip": null,
      "layout": "IPY_MODEL_c85fd46b1fe049e2973b4919da8f0dc9",
      "max": 99,
      "min": 0,
      "orientation": "horizontal",
      "style": "IPY_MODEL_b463aedb63ba49acb8383d0c1118f014",
      "value": 99
     }
    },
    "a1486ca5e1c444d49b6bdb410d2a0466": {
     "model_module": "@jupyter-widgets/controls",
     "model_name": "DescriptionStyleModel",
     "state": {
      "_model_module": "@jupyter-widgets/controls",
      "_model_module_version": "1.5.0",
      "_model_name": "DescriptionStyleModel",
      "_view_count": null,
      "_view_module": "@jupyter-widgets/base",
      "_view_module_version": "1.2.0",
      "_view_name": "StyleView",
      "description_width": ""
     }
    },
    "b463aedb63ba49acb8383d0c1118f014": {
     "model_module": "@jupyter-widgets/controls",
     "model_name": "ProgressStyleModel",
     "state": {
      "_model_module": "@jupyter-widgets/controls",
      "_model_module_version": "1.5.0",
      "_model_name": "ProgressStyleModel",
      "_view_count": null,
      "_view_module": "@jupyter-widgets/base",
      "_view_module_version": "1.2.0",
      "_view_name": "StyleView",
      "bar_color": null,
      "description_width": "initial"
     }
    },
    "c4f95c2193044344b22541f0bca5af79": {
     "model_module": "@jupyter-widgets/base",
     "model_name": "LayoutModel",
     "state": {
      "_model_module": "@jupyter-widgets/base",
      "_model_module_version": "1.2.0",
      "_model_name": "LayoutModel",
      "_view_count": null,
      "_view_module": "@jupyter-widgets/base",
      "_view_module_version": "1.2.0",
      "_view_name": "LayoutView",
      "align_content": null,
      "align_items": null,
      "align_self": null,
      "border": null,
      "bottom": null,
      "display": null,
      "flex": null,
      "flex_flow": null,
      "grid_area": null,
      "grid_auto_columns": null,
      "grid_auto_flow": null,
      "grid_auto_rows": null,
      "grid_column": null,
      "grid_gap": null,
      "grid_row": null,
      "grid_template_areas": null,
      "grid_template_columns": null,
      "grid_template_rows": null,
      "height": null,
      "justify_content": null,
      "justify_items": null,
      "left": null,
      "margin": null,
      "max_height": null,
      "max_width": null,
      "min_height": null,
      "min_width": null,
      "object_fit": null,
      "object_position": null,
      "order": null,
      "overflow": null,
      "overflow_x": null,
      "overflow_y": null,
      "padding": null,
      "right": null,
      "top": null,
      "visibility": null,
      "width": null
     }
    },
    "c85fd46b1fe049e2973b4919da8f0dc9": {
     "model_module": "@jupyter-widgets/base",
     "model_name": "LayoutModel",
     "state": {
      "_model_module": "@jupyter-widgets/base",
      "_model_module_version": "1.2.0",
      "_model_name": "LayoutModel",
      "_view_count": null,
      "_view_module": "@jupyter-widgets/base",
      "_view_module_version": "1.2.0",
      "_view_name": "LayoutView",
      "align_content": null,
      "align_items": null,
      "align_self": null,
      "border": null,
      "bottom": null,
      "display": null,
      "flex": null,
      "flex_flow": null,
      "grid_area": null,
      "grid_auto_columns": null,
      "grid_auto_flow": null,
      "grid_auto_rows": null,
      "grid_column": null,
      "grid_gap": null,
      "grid_row": null,
      "grid_template_areas": null,
      "grid_template_columns": null,
      "grid_template_rows": null,
      "height": null,
      "justify_content": null,
      "justify_items": null,
      "left": null,
      "margin": null,
      "max_height": null,
      "max_width": null,
      "min_height": null,
      "min_width": null,
      "object_fit": null,
      "object_position": null,
      "order": null,
      "overflow": null,
      "overflow_x": null,
      "overflow_y": null,
      "padding": null,
      "right": null,
      "top": null,
      "visibility": null,
      "width": null
     }
    }
   }
  }
 },
 "nbformat": 4,
 "nbformat_minor": 1
}
